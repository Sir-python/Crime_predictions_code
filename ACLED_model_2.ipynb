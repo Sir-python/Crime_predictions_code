{
 "cells": [
  {
   "cell_type": "markdown",
   "id": "3c8b2e59-f48c-4d5a-a835-e8e5d0eb8c71",
   "metadata": {},
   "source": [
    "# **Libraries**"
   ]
  },
  {
   "cell_type": "code",
   "execution_count": 1,
   "id": "588f300b-b84f-4734-bb6d-b92590cc5103",
   "metadata": {},
   "outputs": [],
   "source": [
    "import pandas as pd\n",
    "from sklearn.model_selection import train_test_split\n",
    "from sklearn.ensemble import RandomForestClassifier\n",
    "from sklearn.preprocessing import LabelEncoder, OneHotEncoder, StandardScaler\n",
    "from sklearn.decomposition import PCA\n",
    "from sklearn.metrics import classification_report, confusion_matrix, accuracy_score\n",
    "from sklearn.impute import SimpleImputer # To handle potential missing values\n",
    "import numpy as np # Often useful for handling numerical data\n",
    "import matplotlib.pyplot as plt\n",
    "import seaborn as sns"
   ]
  },
  {
   "cell_type": "markdown",
   "id": "d58b2be5-1f40-4cfc-a4d6-5bfd0b9f2485",
   "metadata": {},
   "source": [
    "# **File Path**"
   ]
  },
  {
   "cell_type": "code",
   "execution_count": 2,
   "id": "526b89ad-f6be-4cbc-b9ba-215c247cb63f",
   "metadata": {},
   "outputs": [],
   "source": [
    "# file_path = r\"F:\\University\\Uni Stuff (semester 11)\\Thesis\\code\\data\\raw\\thesis_data_updated.csv\"\n",
    "file_path = r\"F:\\University\\Uni Stuff (semester 11)\\Thesis\\data\\acled_aggregated_20198.csv\""
   ]
  },
  {
   "cell_type": "markdown",
   "id": "8417700e-5afd-46d8-8439-38f457f6b2f1",
   "metadata": {},
   "source": [
    "# **Dataset**"
   ]
  },
  {
   "cell_type": "code",
   "execution_count": 3,
   "id": "d738ea2f-8de1-40ec-b7b6-90f6ea9716b9",
   "metadata": {},
   "outputs": [],
   "source": [
    "df = pd.read_csv(file_path, parse_dates=['Event week'])"
   ]
  },
  {
   "cell_type": "markdown",
   "id": "ddf77eff-aaf4-418f-ba1c-50e358a7a603",
   "metadata": {},
   "source": [
    "#  **Exploratory  Data Analysis**"
   ]
  },
  {
   "cell_type": "code",
   "execution_count": 4,
   "id": "3ff89703-d17e-4aa1-ae74-22dcad874849",
   "metadata": {},
   "outputs": [
    {
     "data": {
      "application/vnd.microsoft.datawrangler.viewer.v0+json": {
       "columns": [
        {
         "name": "index",
         "rawType": "int64",
         "type": "integer"
        },
        {
         "name": "Location",
         "rawType": "object",
         "type": "string"
        },
        {
         "name": "Event week",
         "rawType": "datetime64[ns]",
         "type": "datetime"
        },
        {
         "name": "Event Type",
         "rawType": "object",
         "type": "string"
        },
        {
         "name": "Events",
         "rawType": "int64",
         "type": "integer"
        }
       ],
       "conversionMethod": "pd.DataFrame",
       "ref": "953688dd-8587-4d0e-8cf7-7b556ad91128",
       "rows": [
        [
         "0",
         "Munshiganj",
         "2024-04-13 00:00:00",
         "Battles",
         "1"
        ],
        [
         "1",
         "Munshiganj",
         "2024-04-13 00:00:00",
         "Riots",
         "0"
        ],
        [
         "2",
         "Munshiganj",
         "2024-04-13 00:00:00",
         "Violence against civilians",
         "0"
        ],
        [
         "3",
         "Munshiganj",
         "2024-04-13 00:00:00",
         "Explosions/Remote violence",
         "0"
        ],
        [
         "4",
         "Munshiganj",
         "2024-04-13 00:00:00",
         "Protests",
         "0"
        ],
        [
         "5",
         "Ruma",
         "2024-04-13 00:00:00",
         "Battles",
         "1"
        ],
        [
         "6",
         "Ruma",
         "2024-04-13 00:00:00",
         "Riots",
         "0"
        ],
        [
         "7",
         "Ruma",
         "2024-04-13 00:00:00",
         "Violence against civilians",
         "0"
        ],
        [
         "8",
         "Ruma",
         "2024-04-13 00:00:00",
         "Explosions/Remote violence",
         "0"
        ],
        [
         "9",
         "Ruma",
         "2024-04-13 00:00:00",
         "Protests",
         "0"
        ]
       ],
       "shape": {
        "columns": 4,
        "rows": 10
       }
      },
      "text/html": [
       "<div>\n",
       "<style scoped>\n",
       "    .dataframe tbody tr th:only-of-type {\n",
       "        vertical-align: middle;\n",
       "    }\n",
       "\n",
       "    .dataframe tbody tr th {\n",
       "        vertical-align: top;\n",
       "    }\n",
       "\n",
       "    .dataframe thead th {\n",
       "        text-align: right;\n",
       "    }\n",
       "</style>\n",
       "<table border=\"1\" class=\"dataframe\">\n",
       "  <thead>\n",
       "    <tr style=\"text-align: right;\">\n",
       "      <th></th>\n",
       "      <th>Location</th>\n",
       "      <th>Event week</th>\n",
       "      <th>Event Type</th>\n",
       "      <th>Events</th>\n",
       "    </tr>\n",
       "  </thead>\n",
       "  <tbody>\n",
       "    <tr>\n",
       "      <th>0</th>\n",
       "      <td>Munshiganj</td>\n",
       "      <td>2024-04-13</td>\n",
       "      <td>Battles</td>\n",
       "      <td>1</td>\n",
       "    </tr>\n",
       "    <tr>\n",
       "      <th>1</th>\n",
       "      <td>Munshiganj</td>\n",
       "      <td>2024-04-13</td>\n",
       "      <td>Riots</td>\n",
       "      <td>0</td>\n",
       "    </tr>\n",
       "    <tr>\n",
       "      <th>2</th>\n",
       "      <td>Munshiganj</td>\n",
       "      <td>2024-04-13</td>\n",
       "      <td>Violence against civilians</td>\n",
       "      <td>0</td>\n",
       "    </tr>\n",
       "    <tr>\n",
       "      <th>3</th>\n",
       "      <td>Munshiganj</td>\n",
       "      <td>2024-04-13</td>\n",
       "      <td>Explosions/Remote violence</td>\n",
       "      <td>0</td>\n",
       "    </tr>\n",
       "    <tr>\n",
       "      <th>4</th>\n",
       "      <td>Munshiganj</td>\n",
       "      <td>2024-04-13</td>\n",
       "      <td>Protests</td>\n",
       "      <td>0</td>\n",
       "    </tr>\n",
       "    <tr>\n",
       "      <th>5</th>\n",
       "      <td>Ruma</td>\n",
       "      <td>2024-04-13</td>\n",
       "      <td>Battles</td>\n",
       "      <td>1</td>\n",
       "    </tr>\n",
       "    <tr>\n",
       "      <th>6</th>\n",
       "      <td>Ruma</td>\n",
       "      <td>2024-04-13</td>\n",
       "      <td>Riots</td>\n",
       "      <td>0</td>\n",
       "    </tr>\n",
       "    <tr>\n",
       "      <th>7</th>\n",
       "      <td>Ruma</td>\n",
       "      <td>2024-04-13</td>\n",
       "      <td>Violence against civilians</td>\n",
       "      <td>0</td>\n",
       "    </tr>\n",
       "    <tr>\n",
       "      <th>8</th>\n",
       "      <td>Ruma</td>\n",
       "      <td>2024-04-13</td>\n",
       "      <td>Explosions/Remote violence</td>\n",
       "      <td>0</td>\n",
       "    </tr>\n",
       "    <tr>\n",
       "      <th>9</th>\n",
       "      <td>Ruma</td>\n",
       "      <td>2024-04-13</td>\n",
       "      <td>Protests</td>\n",
       "      <td>0</td>\n",
       "    </tr>\n",
       "  </tbody>\n",
       "</table>\n",
       "</div>"
      ],
      "text/plain": [
       "     Location Event week                  Event Type  Events\n",
       "0  Munshiganj 2024-04-13                     Battles       1\n",
       "1  Munshiganj 2024-04-13                       Riots       0\n",
       "2  Munshiganj 2024-04-13  Violence against civilians       0\n",
       "3  Munshiganj 2024-04-13  Explosions/Remote violence       0\n",
       "4  Munshiganj 2024-04-13                    Protests       0\n",
       "5        Ruma 2024-04-13                     Battles       1\n",
       "6        Ruma 2024-04-13                       Riots       0\n",
       "7        Ruma 2024-04-13  Violence against civilians       0\n",
       "8        Ruma 2024-04-13  Explosions/Remote violence       0\n",
       "9        Ruma 2024-04-13                    Protests       0"
      ]
     },
     "execution_count": 4,
     "metadata": {},
     "output_type": "execute_result"
    }
   ],
   "source": [
    "df.head(10)"
   ]
  },
  {
   "cell_type": "code",
   "execution_count": 5,
   "id": "e36379ee-6f23-4b33-aff7-999124f9e2e3",
   "metadata": {},
   "outputs": [
    {
     "name": "stdout",
     "output_type": "stream",
     "text": [
      "<class 'pandas.core.frame.DataFrame'>\n",
      "RangeIndex: 152620 entries, 0 to 152619\n",
      "Data columns (total 4 columns):\n",
      " #   Column      Non-Null Count   Dtype         \n",
      "---  ------      --------------   -----         \n",
      " 0   Location    152620 non-null  object        \n",
      " 1   Event week  152620 non-null  datetime64[ns]\n",
      " 2   Event Type  152620 non-null  object        \n",
      " 3   Events      152620 non-null  int64         \n",
      "dtypes: datetime64[ns](1), int64(1), object(2)\n",
      "memory usage: 4.7+ MB\n",
      "None\n",
      "<bound method NDFrame.describe of           Location Event week                  Event Type  Events\n",
      "0       Munshiganj 2024-04-13                     Battles       1\n",
      "1       Munshiganj 2024-04-13                       Riots       0\n",
      "2       Munshiganj 2024-04-13  Violence against civilians       0\n",
      "3       Munshiganj 2024-04-13  Explosions/Remote violence       0\n",
      "4       Munshiganj 2024-04-13                    Protests       0\n",
      "...            ...        ...                         ...     ...\n",
      "152615     Noamala 2025-04-05                     Battles       0\n",
      "152616     Noamala 2025-04-05                       Riots       2\n",
      "152617     Noamala 2025-04-05  Violence against civilians       0\n",
      "152618     Noamala 2025-04-05  Explosions/Remote violence       0\n",
      "152619     Noamala 2025-04-05                    Protests       0\n",
      "\n",
      "[152620 rows x 4 columns]>\n"
     ]
    }
   ],
   "source": [
    "print(df.info())\n",
    "print(df.describe)"
   ]
  },
  {
   "cell_type": "code",
   "execution_count": 6,
   "id": "edd87b85-faa8-497e-a731-7a5899db6355",
   "metadata": {},
   "outputs": [
    {
     "data": {
      "text/plain": [
       "Location              object\n",
       "Event week    datetime64[ns]\n",
       "Event Type            object\n",
       "Events                 int64\n",
       "dtype: object"
      ]
     },
     "execution_count": 6,
     "metadata": {},
     "output_type": "execute_result"
    }
   ],
   "source": [
    "df.dtypes"
   ]
  },
  {
   "cell_type": "code",
   "execution_count": 7,
   "id": "09f67cc8-2ffb-46f5-9695-7ff5abfbb7ec",
   "metadata": {},
   "outputs": [
    {
     "name": "stdout",
     "output_type": "stream",
     "text": [
      "Location      0\n",
      "Event week    0\n",
      "Event Type    0\n",
      "Events        0\n",
      "dtype: int64\n"
     ]
    }
   ],
   "source": [
    "print(df.isnull().sum())"
   ]
  },
  {
   "cell_type": "code",
   "execution_count": 8,
   "id": "fb3c0990-0617-474e-8e27-fcffa145607d",
   "metadata": {},
   "outputs": [],
   "source": [
    "# df['Crime_date'] = pd.to_datetime(df['Crime_date'])\n",
    "# df['Crime_time'] = pd.to_datetime(df['Crime_time'], format='%I:%M:%S %p')"
   ]
  },
  {
   "cell_type": "markdown",
   "id": "3ec9b5c2",
   "metadata": {},
   "source": [
    "# **Visualizations**"
   ]
  },
  {
   "cell_type": "code",
   "execution_count": 9,
   "id": "a2e935ec",
   "metadata": {},
   "outputs": [
    {
     "name": "stdout",
     "output_type": "stream",
     "text": [
      "--- Sum of Event Counts per Event Type ---\n",
      "Event Type\n",
      "Battles                        38\n",
      "Explosions/Remote violence      6\n",
      "Protests                        6\n",
      "Riots                         906\n",
      "Violence against civilians    254\n",
      "Name: Events, dtype: int64\n",
      "\n",
      "--- Count of Event Types ---\n",
      "Event Type\n",
      "Battles                       30524\n",
      "Riots                         30524\n",
      "Violence against civilians    30524\n",
      "Explosions/Remote violence    30524\n",
      "Protests                      30524\n",
      "Name: count, dtype: int64\n"
     ]
    }
   ],
   "source": [
    "# Frequency of Events\n",
    "group_event_counts = df.groupby('Event Type')\n",
    "total_counts = group_event_counts['Events'].sum()\n",
    "print(\"--- Sum of Event Counts per Event Type ---\")\n",
    "print(total_counts)\n",
    "print(\"\\n--- Count of Event Types ---\")\n",
    "print(df['Event Type'].value_counts())"
   ]
  },
  {
   "cell_type": "code",
   "execution_count": 10,
   "id": "393c65ad",
   "metadata": {},
   "outputs": [
    {
     "name": "stdout",
     "output_type": "stream",
     "text": [
      "\n",
      "--- Sum of Event Counts per Location ---\n",
      "Location\n",
      "Abhaynagar    3\n",
      "Aditmari      1\n",
      "Ahmmadpur     1\n",
      "Akcha         2\n",
      "Akhanagar     1\n",
      "             ..\n",
      "Vikakhali     1\n",
      "Walapalong    1\n",
      "Wazirpur      2\n",
      "Whykong       3\n",
      "Zajira        2\n",
      "Name: Events, Length: 587, dtype: int64\n",
      "\n",
      "--- Count of Event Locations ---\n",
      "Location\n",
      "Munshiganj        260\n",
      "Tetuljhora        260\n",
      "Naikhongchhari    260\n",
      "Singra            260\n",
      "Jaintiapur        260\n",
      "                 ... \n",
      "Barandi           260\n",
      "Barisal           260\n",
      "Basan             260\n",
      "Basurhat          260\n",
      "Noamala           260\n",
      "Name: count, Length: 587, dtype: int64\n"
     ]
    }
   ],
   "source": [
    "# Frequency of Event Locations\n",
    "group_location_counts = df.groupby('Location')\n",
    "location_counts = group_location_counts['Events'].sum()\n",
    "print(\"\\n--- Sum of Event Counts per Location ---\")\n",
    "print(location_counts)\n",
    "print(\"\\n--- Count of Event Locations ---\")\n",
    "print(df['Location'].value_counts())"
   ]
  },
  {
   "cell_type": "code",
   "execution_count": 11,
   "id": "accf11fc",
   "metadata": {},
   "outputs": [
    {
     "data": {
      "image/png": "[encoded data removed]",
      "text/plain": [
       "<Figure size 800x600 with 1 Axes>"
      ]
     },
     "metadata": {},
     "output_type": "display_data"
    }
   ],
   "source": [
    "# Frequency distribution of Event Type\n",
    "x = total_counts.index\n",
    "y = total_counts.values\n",
    "plt.figure(figsize=(8, 6))\n",
    "plt.title('Event Type Frequency Distribution')\n",
    "plt.barh(x, y, color='blue')\n",
    "plt.tight_layout()\n",
    "plt.show()"
   ]
  },
  {
   "cell_type": "markdown",
   "id": "30565a0d-8df4-451d-bc22-4d27e8082868",
   "metadata": {},
   "source": [
    "#  **Preprocessing**"
   ]
  },
  {
   "cell_type": "code",
   "execution_count": 14,
   "id": "348a6e74-7d27-40ad-9f78-c464d067018a",
   "metadata": {},
   "outputs": [],
   "source": [
    "pre_processed_df = df.copy()\n",
    "pre_processed_df.sort_values(by='Event week', inplace=True)"
   ]
  },
  {
   "cell_type": "code",
   "execution_count": null,
   "id": "84267282-2bef-4990-b32e-ac8ee95ff314",
   "metadata": {},
   "outputs": [],
   "source": [
    "# pre_processed_df = pre_processed_df.drop(columns='SL')"
   ]
  },
  {
   "cell_type": "code",
   "execution_count": null,
   "id": "79664d0c-f3e4-47b0-91c1-7bb6d5c8cd9d",
   "metadata": {},
   "outputs": [
    {
     "name": "stdout",
     "output_type": "stream",
     "text": [
      "     Location Event week                  Event Type  Events\n",
      "0  Munshiganj 2024-04-13                     Battles       1\n",
      "1  Munshiganj 2024-04-13                       Riots       0\n",
      "2  Munshiganj 2024-04-13  Violence against civilians       0\n",
      "3  Munshiganj 2024-04-13  Explosions/Remote violence       0\n",
      "4  Munshiganj 2024-04-13                    Protests       0\n",
      "<class 'pandas.core.frame.DataFrame'>\n",
      "RangeIndex: 152620 entries, 0 to 152619\n",
      "Data columns (total 4 columns):\n",
      " #   Column      Non-Null Count   Dtype         \n",
      "---  ------      --------------   -----         \n",
      " 0   Location    152620 non-null  object        \n",
      " 1   Event week  152620 non-null  datetime64[ns]\n",
      " 2   Event Type  152620 non-null  object        \n",
      " 3   Events      152620 non-null  int64         \n",
      "dtypes: datetime64[ns](1), int64(1), object(2)\n",
      "memory usage: 4.7+ MB\n",
      "None\n",
      "Location      0\n",
      "Event week    0\n",
      "Event Type    0\n",
      "Events        0\n",
      "dtype: int64\n"
     ]
    }
   ],
   "source": [
    "print(pre_processed_df.head())\n",
    "print(pre_processed_df.info())\n",
    "print(pre_processed_df.isnull().sum())"
   ]
  },
  {
   "cell_type": "code",
   "execution_count": 17,
   "id": "2dc994f6",
   "metadata": {},
   "outputs": [],
   "source": [
    "def impute_missing_weeks(df, start_date: str, end_date: str) -> pd.DataFrame:\n",
    "    \"\"\"\n",
    "    Ensure each Location has a row for every week in the date range.\n",
    "    Missing Event Count and Event Type get filled with zeros or 'None'.\n",
    "    \"\"\"\n",
    "    # build full index of all location-week combinations\n",
    "    all_locs = df['Location'].unique()\n",
    "    full_weeks = pd.date_range(start=start_date, end=end_date, freq='W')\n",
    "    idx = pd.MultiIndex.from_product([all_locs, full_weeks], names=['Location', 'Event Week'])\n",
    "\n",
    "    # reindex and fill missing counts\n",
    "    df_full = df.set_index(['Location', 'Event Week']).reindex(idx)\n",
    "    df_full['Events'] = df_full['Events'].fillna(0)\n",
    "    df_full['Event Type'] = df_full['Event Type'].fillna('None')\n",
    "    df_full = df_full.reset_index()\n",
    "    return df_full\n",
    "\n",
    "def define_hotspot_label(df, window = 4, threshold_quantile = 0.8):\n",
    "    \"\"\"\n",
    "    Compute a rolling window sum of Event Count and binarize into Hotspot vs. non-Hotspot.\n",
    "    Threshold is the quantile of all rolling sums.\n",
    "    \"\"\"\n",
    "    df = df.sort_values(['Location', 'Event Week'])\n",
    "    df['rolling_sum'] = (\n",
    "        df.groupby('Location')['Events']\n",
    "          .transform(lambda x: x.rolling(window, min_periods=1).sum())\n",
    "    )\n",
    "    threshold = df['rolling_sum'].quantile(threshold_quantile)\n",
    "    df['Hotspot'] = (df['rolling_sum'] >= threshold).astype(int)\n",
    "    return df\n",
    "\n",
    "def create_features(df):\n",
    "    \"\"\"\n",
    "    Generate temporal and categorical features:\n",
    "      - WeekOfYear, Month, Year\n",
    "      - One-hot encode Event Type\n",
    "      - Lagged rolling windows of counts\n",
    "    \"\"\"\n",
    "    # Temporal\n",
    "    df['WeekOfYear'] = df['Event Week'].dt.isocalendar().week\n",
    "    df['Month']      = df['Event Week'].dt.month\n",
    "    df['Year']       = df['Event Week'].dt.year\n",
    "\n",
    "    # Categorical encoding\n",
    "    df = pd.get_dummies(df, columns=['Event Type'], prefix='Type')\n",
    "\n",
    "    # Lagged rolling sums\n",
    "    for w in [1, 4, 12]:\n",
    "        col_name = f'Count_last_{w}w'\n",
    "        df[col_name] = (\n",
    "            df.groupby('Location')['Events']\n",
    "              .transform(lambda x: x.shift(1).rolling(w, min_periods=1).sum())\n",
    "              .fillna(0)\n",
    "        )\n",
    "    return df\n",
    "\n",
    "def preprocess(df, start_date: str, end_date: str) -> pd.DataFrame:\n",
    "    \"\"\"\n",
    "    Full preprocessing pipeline:\n",
    "      1. Impute missing weeks\n",
    "      2. Define Hotspot label\n",
    "      3. Create features\n",
    "      4. Drop intermediate columns\n",
    "    \"\"\"\n",
    "    df = impute_missing_weeks(df, start_date, end_date)\n",
    "    df = define_hotspot_label(df)\n",
    "    df = create_features(df)\n",
    "\n",
    "    # Remove intermediate columns no longer needed for modeling\n",
    "    df = df.drop(columns=['Event Count', 'rolling_sum'])\n",
    "    return df"
   ]
  },
  {
   "cell_type": "code",
   "execution_count": null,
   "id": "0c2e38e1",
   "metadata": {},
   "outputs": [],
   "source": [
    "preprocessed_df = preprocess(pre_processed_df, '2024-04-13', '2019-12-31')"
   ]
  },
  {
   "cell_type": "code",
   "execution_count": null,
   "id": "1183f282-c7d6-497c-a32a-7fa8e2566176",
   "metadata": {},
   "outputs": [],
   "source": [
    "# pre_processed_df['GDP per capita (USD)'] = pre_processed_df['GDP per capita (USD)'].str.replace(',', '')"
   ]
  },
  {
   "cell_type": "code",
   "execution_count": null,
   "id": "54742653-b872-4d7b-aab4-b2b164eb22b6",
   "metadata": {},
   "outputs": [],
   "source": [
    "# pre_processed_df['GNI per capita (USD)'] = pre_processed_df['GNI per capita (USD)'].str.replace(',', '')"
   ]
  },
  {
   "cell_type": "code",
   "execution_count": null,
   "id": "e9aa1d64-6ca5-4f7f-9c8a-e7f2461bb937",
   "metadata": {},
   "outputs": [],
   "source": [
    "# pre_processed_df['GDP per capita (USD)'] = pd.to_numeric(pre_processed_df['GDP per capita (USD)'])\n",
    "# pre_processed_df['GNI per capita (USD)'] = pd.to_numeric(pre_processed_df['GNI per capita (USD)'])"
   ]
  },
  {
   "cell_type": "code",
   "execution_count": 15,
   "id": "31c1044f-aaf4-4118-88c1-5d665f4066f2",
   "metadata": {},
   "outputs": [],
   "source": [
    "# Temporal features\n",
    "pre_processed_df['month'] = pre_processed_df['Event week'].dt.month\n",
    "pre_processed_df['day'] = pre_processed_df['Event week'].dt.day\n",
    "pre_processed_df['year'] = pre_processed_df['Event week'].dt.year\n",
    "# pre_processed_df['hour'] = pre_processed_df['Crime_time'].dt.hour\n",
    "# pre_processed_df['minutes'] = pre_processed_df['Crime_time'].dt.minute\n",
    "# pre_processed_df['crime_hour_sin'] = np.sin(2 * np.pi * pre_processed_df['hour'] / 24)\n",
    "# pre_processed_df['crime_hour_cos'] = np.cos(2 * np.pi * pre_processed_df['hour'] / 24)"
   ]
  },
  {
   "cell_type": "code",
   "execution_count": null,
   "id": "cb589b83",
   "metadata": {},
   "outputs": [],
   "source": []
  },
  {
   "cell_type": "code",
   "execution_count": null,
   "id": "bc607e1d-b4ed-4707-be9d-8c192faa99e8",
   "metadata": {},
   "outputs": [],
   "source": [
    "# pre_processed_df.sort_values(by='Event week', inplace=True)\n",
    "# pre_processed_df.drop(columns = ['Crime_date', 'Crime_time'], inplace=True)"
   ]
  },
  {
   "cell_type": "markdown",
   "id": "f1861925-cfa0-4b4f-9c4c-fb5538191441",
   "metadata": {},
   "source": [
    "# **Feature Engineering**"
   ]
  },
  {
   "cell_type": "code",
   "execution_count": 14,
   "id": "3c8a3d0e-839e-4d43-a463-8ac814f6b3cd",
   "metadata": {},
   "outputs": [],
   "source": [
    "pre_processed_df = pd.get_dummies(pre_processed_df, columns=['gender'])"
   ]
  },
  {
   "cell_type": "code",
   "execution_count": 15,
   "id": "8b8ab299-daa6-4070-ba2e-fd885baa95f1",
   "metadata": {},
   "outputs": [
    {
     "name": "stdout",
     "output_type": "stream",
     "text": [
      "Numerical columns:  ['Age', 'month', 'day', 'year', 'hour', 'minutes', 'crime_hour_sin', 'crime_hour_cos', 'gender_female', 'gender_male']\n",
      "Categorical columns:  ['PS/SD', 'Crime_Location', 'Allegation']\n"
     ]
    }
   ],
   "source": [
    "numerical_cols = pre_processed_df.select_dtypes(include=['float64', 'int64', 'int32', 'bool']).columns.tolist()\n",
    "categorical_cols = pre_processed_df.select_dtypes(include=['object']).columns.tolist()\n",
    "print(\"Numerical columns: \", numerical_cols)\n",
    "print(\"Categorical columns: \", categorical_cols)"
   ]
  },
  {
   "cell_type": "code",
   "execution_count": 44,
   "id": "b3fa0a16-df49-401f-8028-0d582cf6966e",
   "metadata": {},
   "outputs": [
    {
     "name": "stdout",
     "output_type": "stream",
     "text": [
      "\n",
      "Features (X) shape: (2081, 12)\n",
      "Target (y) shape: (2081,)\n"
     ]
    }
   ],
   "source": [
    "# Features and Target variable\n",
    "target_column = 'Allegation'\n",
    "y = pre_processed_df[target_column]\n",
    "X = pre_processed_df.drop(columns=[target_column], axis=1)\n",
    "\n",
    "print(f\"\\nFeatures (X) shape: {X.shape}\")\n",
    "print(f\"Target (y) shape: {y.shape}\")"
   ]
  },
  {
   "cell_type": "code",
   "execution_count": 66,
   "id": "cfce493a",
   "metadata": {},
   "outputs": [
    {
     "name": "stdout",
     "output_type": "stream",
     "text": [
      "Allegation\n",
      "mob attack                       385\n",
      "Cocktail explosion               245\n",
      "illegal arms                     245\n",
      "attack                           236\n",
      "illegal arms supply              229\n",
      "arms supply                      156\n",
      "explosive supply                 156\n",
      "ordered to murder                156\n",
      "theft                             40\n",
      "half murder                       32\n",
      "robbery                           29\n",
      "life threat                       23\n",
      "extortion                         20\n",
      "murder                            19\n",
      "Unlawful Assembly Membership      19\n",
      "Collective Criminal Liability     19\n",
      "delivering explosives             16\n",
      "Illegal gatheringing              16\n",
      "terror                            14\n",
      "loss of value                      7\n",
      "unethical gathering                7\n",
      "death threat                       7\n",
      "drugs                              5\n",
      "Name: count, dtype: int64\n"
     ]
    }
   ],
   "source": [
    "# y_group = y.groupby(y).count()\n",
    "# print(y_group)\n",
    "allegation_counts = y.value_counts()\n",
    "print(allegation_counts)"
   ]
  },
  {
   "cell_type": "code",
   "execution_count": 47,
   "id": "228a9a5f-d8b4-4bbf-9472-f0fdb10c86fc",
   "metadata": {},
   "outputs": [
    {
     "name": "stdout",
     "output_type": "stream",
     "text": [
      "\n",
      "Target Variable Encoding:\n",
      "Cocktail explosion -> 0\n",
      "Collective Criminal Liability -> 1\n",
      "Illegal gatheringing -> 2\n",
      "Unlawful Assembly Membership -> 3\n",
      "arms supply -> 4\n",
      "attack -> 5\n",
      "death threat -> 6\n",
      "delivering explosives -> 7\n",
      "drugs -> 8\n",
      "explosive supply -> 9\n",
      "extortion -> 10\n",
      "half murder -> 11\n",
      "illegal arms -> 12\n",
      "illegal arms supply -> 13\n",
      "life threat -> 14\n",
      "loss of value -> 15\n",
      "mob attack -> 16\n",
      "murder -> 17\n",
      "ordered to murder -> 18\n",
      "robbery -> 19\n",
      "terror -> 20\n",
      "theft -> 21\n",
      "unethical gathering -> 22\n"
     ]
    }
   ],
   "source": [
    "# Encoding & Scaling\n",
    "le = LabelEncoder()\n",
    "scaler = StandardScaler()\n",
    "\n",
    "y_encoded = le.fit_transform(y)\n",
    "# X[numerical_cols] = scaler.fit_transform(X[numerical_cols])\n",
    "\n",
    "# Check the mapping from labels to numbers\n",
    "print(\"\\nTarget Variable Encoding:\")\n",
    "for i, class_label in enumerate(le.classes_):\n",
    "    print(f\"{class_label} -> {i}\")\n",
    "\n",
    "X['PS/SD_encoded'] = le.fit_transform(X['PS/SD'])\n",
    "X['Crime_Location_encoded'] = le.fit_transform(X['Crime_Location'])\n",
    "# Freuency encoding for categorical features\n",
    "# X['PS/SD_encoded'] = X.groupby('PS/SD')['PS/SD'].transform('count')\n",
    "# X['Crime_Location_encoded'] = X.groupby('Crime_Location')['Crime_Location'].transform('count')\n",
    "X.drop(columns=['PS/SD', 'Crime_Location'], inplace=True)"
   ]
  },
  {
   "cell_type": "code",
   "execution_count": 52,
   "id": "89905e9c",
   "metadata": {},
   "outputs": [
    {
     "name": "stdout",
     "output_type": "stream",
     "text": [
      "\n",
      "Original number of features: 12\n",
      "Reduced number of features after PCA: 3\n"
     ]
    }
   ],
   "source": [
    "pca = PCA(n_components=0.95)  # Keep 95% of variance\n",
    "X_pca = pca.fit_transform(X)\n",
    "print(f\"\\nOriginal number of features: {X.shape[1]}\")\n",
    "print(f\"Reduced number of features after PCA: {X_pca.shape[1]}\")"
   ]
  },
  {
   "cell_type": "code",
   "execution_count": null,
   "id": "2d5fabd6",
   "metadata": {},
   "outputs": [],
   "source": [
    "# le_ps = LabelEncoder()\n",
    "# le_crime_location = LabelEncoder()\n",
    "# X['PS/SD'] = le_ps.fit_transform(X['PS/SD'])\n",
    "# X['Crime_Location'] = le_crime_location.fit_transform(X['Crime_Location'])\n",
    "# # Check the mapping from labels to numbers\n",
    "# print(\"\\nPS/SD Encoding:\")\n",
    "# for i, class_label in enumerate(le_ps.classes_):\n",
    "#     print(f\"{class_label} -> {i}\")\n",
    "\n",
    "# print(\"\\nCrime Location Encoding:\")\n",
    "# for i, class_label in enumerate(le_crime_location.classes_):\n",
    "#     print(f\"{class_label} -> {i}\")"
   ]
  },
  {
   "cell_type": "code",
   "execution_count": 22,
   "id": "e78ec0de",
   "metadata": {},
   "outputs": [
    {
     "name": "stdout",
     "output_type": "stream",
     "text": [
      "\n",
      "Encoding Map (Dictionary):\n",
      "{'Cocktail explosion': 0, 'Cocktail explosion ': 1, 'Collective Criminal Liability': 2, 'Illegal gatheringing': 3, 'Unlawful Assembly Membership': 4, 'arms supply': 5, 'attack': 6, 'attack ': 7, 'death threat': 8, 'delivering explosives': 9, 'drugs': 10, 'explosive supply ': 11, 'extortion ': 12, 'half murder': 13, 'half murder ': 14, 'illegal arms': 15, 'illegal arms supply': 16, 'life threat': 17, 'loss of value ': 18, 'mob attack': 19, 'mob attack ': 20, 'murder': 21, 'murder ': 22, 'ordered to murder ': 23, 'robbery': 24, 'robbery ': 25, 'terror': 26, 'theft': 27, 'theft ': 28, 'unethical gathering ': 29}\n"
     ]
    }
   ],
   "source": [
    "learned_classes = le.classes_\n",
    "encoding_map = {label: index for index, label in enumerate(learned_classes)}\n",
    "print(\"\\nEncoding Map (Dictionary):\")\n",
    "print(encoding_map)"
   ]
  },
  {
   "cell_type": "markdown",
   "id": "97a99c99",
   "metadata": {},
   "source": [
    "# **Train Test Split**"
   ]
  },
  {
   "cell_type": "code",
   "execution_count": 56,
   "id": "e482f21e-ab63-417f-be23-6f4d181eeb8b",
   "metadata": {},
   "outputs": [
    {
     "name": "stdout",
     "output_type": "stream",
     "text": [
      "\n",
      "Training features shape: (1664, 12)\n",
      "Testing features shape: (417, 12)\n",
      "Training target shape: (1664,)\n",
      "Testing target shape: (417,)\n"
     ]
    }
   ],
   "source": [
    "X_train, X_test, y_train, y_test = train_test_split(X, y_encoded, test_size=0.2, random_state=42, stratify=y_encoded)\n",
    "print(f\"\\nTraining features shape: {X_train.shape}\")\n",
    "print(f\"Testing features shape: {X_test.shape}\")\n",
    "print(f\"Training target shape: {y_train.shape}\")\n",
    "print(f\"Testing target shape: {y_test.shape}\")"
   ]
  },
  {
   "cell_type": "code",
   "execution_count": null,
   "id": "8cd73537",
   "metadata": {},
   "outputs": [],
   "source": [
    "# X_train_scaled = scaler.fit_transform(X_train)"
   ]
  },
  {
   "cell_type": "markdown",
   "id": "9ef2905c",
   "metadata": {},
   "source": [
    "# **Training and Evaluation**"
   ]
  },
  {
   "cell_type": "code",
   "execution_count": 57,
   "id": "2462e40a",
   "metadata": {},
   "outputs": [
    {
     "name": "stdout",
     "output_type": "stream",
     "text": [
      "\n",
      "Predictions shape: (417,)\n"
     ]
    }
   ],
   "source": [
    "rf = RandomForestClassifier(n_estimators=100, random_state=42, class_weight='balanced')\n",
    "rf.fit(X_train, y_train)\n",
    "y_pred = rf.predict(X_test)\n",
    "print(f\"\\nPredictions shape: {y_pred.shape}\")"
   ]
  },
  {
   "cell_type": "code",
   "execution_count": 59,
   "id": "418ac2c6",
   "metadata": {},
   "outputs": [
    {
     "ename": "ValueError",
     "evalue": "y contains previously unseen labels: [ 9 10 11 12 13 14 15 17 18 19 20 22]",
     "output_type": "error",
     "traceback": [
      "\u001b[1;31m---------------------------------------------------------------------------\u001b[0m",
      "\u001b[1;31mValueError\u001b[0m                                Traceback (most recent call last)",
      "Cell \u001b[1;32mIn[59], line 2\u001b[0m\n\u001b[0;32m      1\u001b[0m \u001b[38;5;66;03m# Decode the predicted numerical labels back to original allegation names for clarity\u001b[39;00m\n\u001b[1;32m----> 2\u001b[0m y_pred_labels \u001b[38;5;241m=\u001b[39m \u001b[43mle\u001b[49m\u001b[38;5;241;43m.\u001b[39;49m\u001b[43minverse_transform\u001b[49m\u001b[43m(\u001b[49m\u001b[43my_pred\u001b[49m\u001b[43m)\u001b[49m\n\u001b[0;32m      3\u001b[0m y_test_labels \u001b[38;5;241m=\u001b[39m le\u001b[38;5;241m.\u001b[39minverse_transform(y_test) \u001b[38;5;66;03m# Decode test labels for comparison\u001b[39;00m\n\u001b[0;32m      5\u001b[0m \u001b[38;5;28mprint\u001b[39m(\u001b[38;5;124m\"\u001b[39m\u001b[38;5;130;01m\\n\u001b[39;00m\u001b[38;5;124mClassification Report:\u001b[39m\u001b[38;5;124m\"\u001b[39m)\n",
      "File \u001b[1;32m~\\AppData\\Local\\Packages\\PythonSoftwareFoundation.Python.3.11_qbz5n2kfra8p0\\LocalCache\\local-packages\\Python311\\site-packages\\sklearn\\preprocessing\\_label.py:162\u001b[0m, in \u001b[0;36mLabelEncoder.inverse_transform\u001b[1;34m(self, y)\u001b[0m\n\u001b[0;32m    156\u001b[0m diff \u001b[38;5;241m=\u001b[39m _setdiff1d(\n\u001b[0;32m    157\u001b[0m     ar1\u001b[38;5;241m=\u001b[39my,\n\u001b[0;32m    158\u001b[0m     ar2\u001b[38;5;241m=\u001b[39mxp\u001b[38;5;241m.\u001b[39marange(\u001b[38;5;28mself\u001b[39m\u001b[38;5;241m.\u001b[39mclasses_\u001b[38;5;241m.\u001b[39mshape[\u001b[38;5;241m0\u001b[39m], device\u001b[38;5;241m=\u001b[39mdevice(y)),\n\u001b[0;32m    159\u001b[0m     xp\u001b[38;5;241m=\u001b[39mxp,\n\u001b[0;32m    160\u001b[0m )\n\u001b[0;32m    161\u001b[0m \u001b[38;5;28;01mif\u001b[39;00m diff\u001b[38;5;241m.\u001b[39mshape[\u001b[38;5;241m0\u001b[39m]:\n\u001b[1;32m--> 162\u001b[0m     \u001b[38;5;28;01mraise\u001b[39;00m \u001b[38;5;167;01mValueError\u001b[39;00m(\u001b[38;5;124m\"\u001b[39m\u001b[38;5;124my contains previously unseen labels: \u001b[39m\u001b[38;5;132;01m%s\u001b[39;00m\u001b[38;5;124m\"\u001b[39m \u001b[38;5;241m%\u001b[39m \u001b[38;5;28mstr\u001b[39m(diff))\n\u001b[0;32m    163\u001b[0m y \u001b[38;5;241m=\u001b[39m xp\u001b[38;5;241m.\u001b[39masarray(y)\n\u001b[0;32m    164\u001b[0m \u001b[38;5;28;01mreturn\u001b[39;00m xp\u001b[38;5;241m.\u001b[39mtake(\u001b[38;5;28mself\u001b[39m\u001b[38;5;241m.\u001b[39mclasses_, y, axis\u001b[38;5;241m=\u001b[39m\u001b[38;5;241m0\u001b[39m)\n",
      "\u001b[1;31mValueError\u001b[0m: y contains previously unseen labels: [ 9 10 11 12 13 14 15 17 18 19 20 22]"
     ]
    }
   ],
   "source": [
    "# Decode the predicted numerical labels back to original allegation names for clarity\n",
    "y_pred_labels = le.inverse_transform(y_pred)\n",
    "y_test_labels = le.inverse_transform(y_test) # Decode test labels for comparison\n",
    "\n",
    "print(\"\\nClassification Report:\")\n",
    "print(classification_report(y_test_labels, y_pred_labels, target_names=le.classes_))\n",
    "print(\"\\nConfusion Matrix:\")\n",
    "print(confusion_matrix(y_test_labels, y_pred_labels, labels=le.classes_))\n",
    "print(\"\\nAccuracy Score:\")\n",
    "print(accuracy_score(y_test_labels, y_pred_labels))\n",
    "# Plotting the confusion matrix\n",
    "cm = confusion_matrix(y_test_labels, y_pred_labels, labels=le.classes_)\n",
    "plt.figure(figsize=(10, 8))\n",
    "sns.heatmap(cm, annot=True, fmt='d', cmap='Blues', xticklabels=le.classes_, yticklabels=le.classes_)\n",
    "plt.xlabel('Predicted')\n",
    "plt.ylabel('True')\n",
    "plt.title('Confusion Matrix')\n",
    "plt.show()"
   ]
  }
 ],
 "metadata": {
  "kernelspec": {
   "display_name": "Python 3",
   "language": "python",
   "name": "python3"
  },
  "language_info": {
   "codemirror_mode": {
    "name": "ipython",
    "version": 3
   },
   "file_extension": ".py",
   "mimetype": "text/x-python",
   "name": "python",
   "nbconvert_exporter": "python",
   "pygments_lexer": "ipython3",
   "version": "3.11.4"
  }
 },
 "nbformat": 4,
 "nbformat_minor": 5
}
