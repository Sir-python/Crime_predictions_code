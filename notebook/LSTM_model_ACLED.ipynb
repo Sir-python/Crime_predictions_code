{
 "cells": [
  {
   "cell_type": "markdown",
   "metadata": {},
   "source": [
    "# **Libraries**"
   ]
  },
  {
   "cell_type": "code",
   "execution_count": 1,
   "metadata": {},
   "outputs": [],
   "source": [
    "import pandas as pd \n",
    "import numpy as np\n",
    "import matplotlib.pyplot as plt\n",
    "from sklearn.preprocessing import MinMaxScaler, LabelEncoder\n",
    "from tensorflow.keras.models import Sequential # type: ignore\n",
    "from tensorflow.keras.layers import LSTM, Dense # type: ignore\n",
    "from tensorflow.keras.callbacks import EarlyStopping # type: ignore"
   ]
  },
  {
   "cell_type": "markdown",
   "metadata": {},
   "source": [
    "#### **Data Exploration**"
   ]
  },
  {
   "cell_type": "code",
   "execution_count": 7,
   "metadata": {},
   "outputs": [],
   "source": [
    "df = pd.read_csv(r\"F:\\University\\Uni Stuff (semester 11)\\Thesis\\code\\data\\raw\\thesis_data_updated.csv\", parse_dates=[\"Crime_date\"])"
   ]
  },
  {
   "cell_type": "code",
   "execution_count": 8,
   "metadata": {},
   "outputs": [
    {
     "data": {
      "application/vnd.microsoft.datawrangler.viewer.v0+json": {
       "columns": [
        {
         "name": "index",
         "rawType": "int64",
         "type": "integer"
        },
        {
         "name": "SL",
         "rawType": "int64",
         "type": "integer"
        },
        {
         "name": "Age",
         "rawType": "int64",
         "type": "integer"
        },
        {
         "name": "gender",
         "rawType": "object",
         "type": "string"
        },
        {
         "name": "PS/SD",
         "rawType": "object",
         "type": "string"
        },
        {
         "name": "Crime_Location",
         "rawType": "object",
         "type": "string"
        },
        {
         "name": "Crime_date",
         "rawType": "datetime64[ns]",
         "type": "datetime"
        },
        {
         "name": "Crime_time",
         "rawType": "object",
         "type": "string"
        },
        {
         "name": "Allegation",
         "rawType": "object",
         "type": "string"
        }
       ],
       "conversionMethod": "pd.DataFrame",
       "ref": "c00f1d07-01da-42ce-a586-873c8cd3cd37",
       "rows": [
        [
         "0",
         "1",
         "30",
         "male",
         "vulta",
         "rupgonj",
         "2022-04-24 00:00:00",
         "1:55:00 PM",
         "drugs"
        ],
        [
         "1",
         "2",
         "32",
         "male",
         "vulta",
         "rupgonj",
         "2022-04-24 00:00:00",
         "1:55:00 PM",
         "drugs"
        ],
        [
         "2",
         "3",
         "38",
         "male",
         "vulta",
         "rupgonj",
         "2022-04-24 00:00:00",
         "1:55:00 PM",
         "drugs"
        ],
        [
         "3",
         "4",
         "32",
         "male",
         "vulta",
         "rupgonj",
         "2022-04-24 00:00:00",
         "1:55:00 PM",
         "drugs"
        ],
        [
         "4",
         "5",
         "65",
         "male",
         "kala paharia",
         "araihazar",
         "2024-06-09 00:00:00",
         "4:30:00 AM",
         "half murder"
        ]
       ],
       "shape": {
        "columns": 8,
        "rows": 5
       }
      },
      "text/html": [
       "<div>\n",
       "<style scoped>\n",
       "    .dataframe tbody tr th:only-of-type {\n",
       "        vertical-align: middle;\n",
       "    }\n",
       "\n",
       "    .dataframe tbody tr th {\n",
       "        vertical-align: top;\n",
       "    }\n",
       "\n",
       "    .dataframe thead th {\n",
       "        text-align: right;\n",
       "    }\n",
       "</style>\n",
       "<table border=\"1\" class=\"dataframe\">\n",
       "  <thead>\n",
       "    <tr style=\"text-align: right;\">\n",
       "      <th></th>\n",
       "      <th>SL</th>\n",
       "      <th>Age</th>\n",
       "      <th>gender</th>\n",
       "      <th>PS/SD</th>\n",
       "      <th>Crime_Location</th>\n",
       "      <th>Crime_date</th>\n",
       "      <th>Crime_time</th>\n",
       "      <th>Allegation</th>\n",
       "    </tr>\n",
       "  </thead>\n",
       "  <tbody>\n",
       "    <tr>\n",
       "      <th>0</th>\n",
       "      <td>1</td>\n",
       "      <td>30</td>\n",
       "      <td>male</td>\n",
       "      <td>vulta</td>\n",
       "      <td>rupgonj</td>\n",
       "      <td>2022-04-24</td>\n",
       "      <td>1:55:00 PM</td>\n",
       "      <td>drugs</td>\n",
       "    </tr>\n",
       "    <tr>\n",
       "      <th>1</th>\n",
       "      <td>2</td>\n",
       "      <td>32</td>\n",
       "      <td>male</td>\n",
       "      <td>vulta</td>\n",
       "      <td>rupgonj</td>\n",
       "      <td>2022-04-24</td>\n",
       "      <td>1:55:00 PM</td>\n",
       "      <td>drugs</td>\n",
       "    </tr>\n",
       "    <tr>\n",
       "      <th>2</th>\n",
       "      <td>3</td>\n",
       "      <td>38</td>\n",
       "      <td>male</td>\n",
       "      <td>vulta</td>\n",
       "      <td>rupgonj</td>\n",
       "      <td>2022-04-24</td>\n",
       "      <td>1:55:00 PM</td>\n",
       "      <td>drugs</td>\n",
       "    </tr>\n",
       "    <tr>\n",
       "      <th>3</th>\n",
       "      <td>4</td>\n",
       "      <td>32</td>\n",
       "      <td>male</td>\n",
       "      <td>vulta</td>\n",
       "      <td>rupgonj</td>\n",
       "      <td>2022-04-24</td>\n",
       "      <td>1:55:00 PM</td>\n",
       "      <td>drugs</td>\n",
       "    </tr>\n",
       "    <tr>\n",
       "      <th>4</th>\n",
       "      <td>5</td>\n",
       "      <td>65</td>\n",
       "      <td>male</td>\n",
       "      <td>kala paharia</td>\n",
       "      <td>araihazar</td>\n",
       "      <td>2024-06-09</td>\n",
       "      <td>4:30:00 AM</td>\n",
       "      <td>half murder</td>\n",
       "    </tr>\n",
       "  </tbody>\n",
       "</table>\n",
       "</div>"
      ],
      "text/plain": [
       "   SL  Age gender         PS/SD Crime_Location Crime_date  Crime_time  \\\n",
       "0   1   30   male         vulta        rupgonj 2022-04-24  1:55:00 PM   \n",
       "1   2   32   male         vulta        rupgonj 2022-04-24  1:55:00 PM   \n",
       "2   3   38   male         vulta        rupgonj 2022-04-24  1:55:00 PM   \n",
       "3   4   32   male         vulta        rupgonj 2022-04-24  1:55:00 PM   \n",
       "4   5   65   male  kala paharia      araihazar 2024-06-09  4:30:00 AM   \n",
       "\n",
       "    Allegation  \n",
       "0        drugs  \n",
       "1        drugs  \n",
       "2        drugs  \n",
       "3        drugs  \n",
       "4  half murder  "
      ]
     },
     "execution_count": 8,
     "metadata": {},
     "output_type": "execute_result"
    }
   ],
   "source": [
    "df.head()"
   ]
  },
  {
   "cell_type": "code",
   "execution_count": 9,
   "metadata": {},
   "outputs": [
    {
     "name": "stdout",
     "output_type": "stream",
     "text": [
      "<class 'pandas.core.frame.DataFrame'>\n",
      "RangeIndex: 2081 entries, 0 to 2080\n",
      "Data columns (total 8 columns):\n",
      " #   Column          Non-Null Count  Dtype         \n",
      "---  ------          --------------  -----         \n",
      " 0   SL              2081 non-null   int64         \n",
      " 1   Age             2081 non-null   int64         \n",
      " 2   gender          2081 non-null   object        \n",
      " 3   PS/SD           2081 non-null   object        \n",
      " 4   Crime_Location  2081 non-null   object        \n",
      " 5   Crime_date      2081 non-null   datetime64[ns]\n",
      " 6   Crime_time      2081 non-null   object        \n",
      " 7   Allegation      2081 non-null   object        \n",
      "dtypes: datetime64[ns](1), int64(2), object(5)\n",
      "memory usage: 130.2+ KB\n",
      "None\n",
      "                SL          Age                     Crime_date\n",
      "count  2081.000000  2081.000000                           2081\n",
      "mean   1041.000000    44.902451  2024-07-23 18:58:17.933685760\n",
      "min       1.000000    19.000000            2019-08-17 00:00:00\n",
      "25%     521.000000    38.000000            2024-08-19 00:00:00\n",
      "50%    1041.000000    45.000000            2024-08-19 00:00:00\n",
      "75%    1561.000000    51.000000            2025-08-23 00:00:00\n",
      "max    2081.000000    77.000000            2025-08-23 00:00:00\n",
      "std     600.877275    10.482797                            NaN\n"
     ]
    }
   ],
   "source": [
    "print(df.info())\n",
    "print(df.describe())"
   ]
  },
  {
   "cell_type": "code",
   "execution_count": 10,
   "metadata": {},
   "outputs": [],
   "source": [
    "df.sort_values('Crime_date', inplace=True)"
   ]
  },
  {
   "cell_type": "markdown",
   "metadata": {},
   "source": [
    "# **Preprocessing data**"
   ]
  },
  {
   "cell_type": "code",
   "execution_count": 21,
   "metadata": {},
   "outputs": [],
   "source": [
    "pre_processed_data = df.copy()"
   ]
  },
  {
   "cell_type": "code",
   "execution_count": 22,
   "metadata": {},
   "outputs": [],
   "source": [
    "pre_processed_data = pre_processed_data.drop_duplicates()\n",
    "pre_processed_data = pre_processed_data.drop(columns=['SL'])"
   ]
  },
  {
   "cell_type": "code",
   "execution_count": 9,
   "metadata": {},
   "outputs": [],
   "source": [
    "pre_processed_data['day'] = pre_processed_data['Event day'].dt.day\n",
    "pre_processed_data['month'] = pre_processed_data['Event day'].dt.month\n",
    "pre_processed_data['year'] = pre_processed_data['Event day'].dt.year\n",
    "pre_processed_data['day_of_week'] = pre_processed_data['Event day'].dt.dayofweek"
   ]
  },
  {
   "cell_type": "markdown",
   "metadata": {},
   "source": [
    "### **Encoding and Scaling**"
   ]
  },
  {
   "cell_type": "markdown",
   "metadata": {},
   "source": [
    "# **Plotting**\n"
   ]
  },
  {
   "cell_type": "markdown",
   "metadata": {},
   "source": [
    "# **Sequence dataset for LSTM**"
   ]
  }
 ],
 "metadata": {
  "kernelspec": {
   "display_name": "Python 3",
   "language": "python",
   "name": "python3"
  },
  "language_info": {
   "codemirror_mode": {
    "name": "ipython",
    "version": 3
   },
   "file_extension": ".py",
   "mimetype": "text/x-python",
   "name": "python",
   "nbconvert_exporter": "python",
   "pygments_lexer": "ipython3",
   "version": "3.11.4"
  }
 },
 "nbformat": 4,
 "nbformat_minor": 2
}
