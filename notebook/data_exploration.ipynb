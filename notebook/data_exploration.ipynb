{
 "cells": [
  {
   "cell_type": "markdown",
   "metadata": {},
   "source": [
    "# **File Paths**"
   ]
  },
  {
   "cell_type": "code",
   "execution_count": 1,
   "metadata": {},
   "outputs": [],
   "source": [
    "import sys\n",
    "import os\n",
    "\n",
    "project_root = os.path.abspath(os.path.join(os.getcwd(), \"..\"))\n",
    "sys.path.append(os.path.join(project_root, \"src\", \"data\"))\n",
    "sys.path.append(os.path.join(project_root, \"src\", \"visualizations\"))"
   ]
  },
  {
   "cell_type": "code",
   "execution_count": 2,
   "metadata": {},
   "outputs": [],
   "source": [
    "from load_data import *"
   ]
  },
  {
   "cell_type": "markdown",
   "metadata": {},
   "source": [
    "# **Raw Data**"
   ]
  },
  {
   "cell_type": "code",
   "execution_count": 3,
   "metadata": {},
   "outputs": [
    {
     "name": "stdout",
     "output_type": "stream",
     "text": [
      "Data loaded successfully from F:\\University\\Uni Stuff (semester 11)\\Thesis\\code\\data\\raw\\thesis_data.csv\n"
     ]
    }
   ],
   "source": [
    "raw_file_path = r\"F:\\University\\Uni Stuff (semester 11)\\Thesis\\code\\data\\raw\\thesis_data.csv\"\n",
    "df = load_data(raw_file_path)"
   ]
  },
  {
   "cell_type": "code",
   "execution_count": 4,
   "metadata": {},
   "outputs": [
    {
     "data": {
      "application/vnd.microsoft.datawrangler.viewer.v0+json": {
       "columns": [
        {
         "name": "index",
         "rawType": "int64",
         "type": "integer"
        },
        {
         "name": "SL",
         "rawType": "int64",
         "type": "integer"
        },
        {
         "name": "Age",
         "rawType": "int64",
         "type": "integer"
        },
        {
         "name": "gender",
         "rawType": "object",
         "type": "string"
        },
        {
         "name": "PS/SD",
         "rawType": "object",
         "type": "string"
        },
        {
         "name": "Crime_Location",
         "rawType": "object",
         "type": "string"
        },
        {
         "name": "Crime_date",
         "rawType": "object",
         "type": "string"
        },
        {
         "name": "Crime_time",
         "rawType": "object",
         "type": "string"
        },
        {
         "name": "Allegation",
         "rawType": "object",
         "type": "string"
        }
       ],
       "conversionMethod": "pd.DataFrame",
       "ref": "7991cded-7ed6-4005-976d-57cba4638006",
       "rows": [
        [
         "0",
         "1",
         "30",
         "male",
         "vulta",
         "rupgonj",
         "4/24/2022",
         "1:55:00 PM",
         "drugs"
        ],
        [
         "1",
         "2",
         "32",
         "male",
         "vulta",
         "rupgonj",
         "4/24/2022",
         "1:55:00 PM",
         "drugs"
        ],
        [
         "2",
         "3",
         "38",
         "male",
         "vulta",
         "rupgonj",
         "4/24/2022",
         "1:55:00 PM",
         "drugs"
        ],
        [
         "3",
         "4",
         "32",
         "male",
         "vulta",
         "rupgonj",
         "4/24/2022",
         "1:55:00 PM",
         "drugs"
        ],
        [
         "4",
         "5",
         "65",
         "male",
         "kala paharia",
         "araihazar",
         "6/9/2024",
         "4:30:00 AM",
         "half murder"
        ],
        [
         "5",
         "6",
         "30",
         "male",
         "kala paharia",
         "araihazar",
         "6/9/2024",
         "4:30:00 AM",
         "half murder"
        ],
        [
         "6",
         "7",
         "35",
         "male",
         "kala paharia",
         "araihazar",
         "6/9/2024",
         "4:30:00 AM",
         "half murder"
        ],
        [
         "7",
         "8",
         "45",
         "male",
         "kala paharia",
         "araihazar",
         "6/9/2024",
         "4:30:00 AM",
         "half murder"
        ],
        [
         "8",
         "9",
         "20",
         "male",
         "kala paharia",
         "araihazar",
         "6/9/2024",
         "4:30:00 AM",
         "half murder"
        ],
        [
         "9",
         "10",
         "35",
         "female",
         "kala paharia",
         "araihazar",
         "6/9/2024",
         "4:30:00 AM",
         "half murder"
        ]
       ],
       "shape": {
        "columns": 8,
        "rows": 10
       }
      },
      "text/html": [
       "<div>\n",
       "<style scoped>\n",
       "    .dataframe tbody tr th:only-of-type {\n",
       "        vertical-align: middle;\n",
       "    }\n",
       "\n",
       "    .dataframe tbody tr th {\n",
       "        vertical-align: top;\n",
       "    }\n",
       "\n",
       "    .dataframe thead th {\n",
       "        text-align: right;\n",
       "    }\n",
       "</style>\n",
       "<table border=\"1\" class=\"dataframe\">\n",
       "  <thead>\n",
       "    <tr style=\"text-align: right;\">\n",
       "      <th></th>\n",
       "      <th>SL</th>\n",
       "      <th>Age</th>\n",
       "      <th>gender</th>\n",
       "      <th>PS/SD</th>\n",
       "      <th>Crime_Location</th>\n",
       "      <th>Crime_date</th>\n",
       "      <th>Crime_time</th>\n",
       "      <th>Allegation</th>\n",
       "    </tr>\n",
       "  </thead>\n",
       "  <tbody>\n",
       "    <tr>\n",
       "      <th>0</th>\n",
       "      <td>1</td>\n",
       "      <td>30</td>\n",
       "      <td>male</td>\n",
       "      <td>vulta</td>\n",
       "      <td>rupgonj</td>\n",
       "      <td>4/24/2022</td>\n",
       "      <td>1:55:00 PM</td>\n",
       "      <td>drugs</td>\n",
       "    </tr>\n",
       "    <tr>\n",
       "      <th>1</th>\n",
       "      <td>2</td>\n",
       "      <td>32</td>\n",
       "      <td>male</td>\n",
       "      <td>vulta</td>\n",
       "      <td>rupgonj</td>\n",
       "      <td>4/24/2022</td>\n",
       "      <td>1:55:00 PM</td>\n",
       "      <td>drugs</td>\n",
       "    </tr>\n",
       "    <tr>\n",
       "      <th>2</th>\n",
       "      <td>3</td>\n",
       "      <td>38</td>\n",
       "      <td>male</td>\n",
       "      <td>vulta</td>\n",
       "      <td>rupgonj</td>\n",
       "      <td>4/24/2022</td>\n",
       "      <td>1:55:00 PM</td>\n",
       "      <td>drugs</td>\n",
       "    </tr>\n",
       "    <tr>\n",
       "      <th>3</th>\n",
       "      <td>4</td>\n",
       "      <td>32</td>\n",
       "      <td>male</td>\n",
       "      <td>vulta</td>\n",
       "      <td>rupgonj</td>\n",
       "      <td>4/24/2022</td>\n",
       "      <td>1:55:00 PM</td>\n",
       "      <td>drugs</td>\n",
       "    </tr>\n",
       "    <tr>\n",
       "      <th>4</th>\n",
       "      <td>5</td>\n",
       "      <td>65</td>\n",
       "      <td>male</td>\n",
       "      <td>kala paharia</td>\n",
       "      <td>araihazar</td>\n",
       "      <td>6/9/2024</td>\n",
       "      <td>4:30:00 AM</td>\n",
       "      <td>half murder</td>\n",
       "    </tr>\n",
       "    <tr>\n",
       "      <th>5</th>\n",
       "      <td>6</td>\n",
       "      <td>30</td>\n",
       "      <td>male</td>\n",
       "      <td>kala paharia</td>\n",
       "      <td>araihazar</td>\n",
       "      <td>6/9/2024</td>\n",
       "      <td>4:30:00 AM</td>\n",
       "      <td>half murder</td>\n",
       "    </tr>\n",
       "    <tr>\n",
       "      <th>6</th>\n",
       "      <td>7</td>\n",
       "      <td>35</td>\n",
       "      <td>male</td>\n",
       "      <td>kala paharia</td>\n",
       "      <td>araihazar</td>\n",
       "      <td>6/9/2024</td>\n",
       "      <td>4:30:00 AM</td>\n",
       "      <td>half murder</td>\n",
       "    </tr>\n",
       "    <tr>\n",
       "      <th>7</th>\n",
       "      <td>8</td>\n",
       "      <td>45</td>\n",
       "      <td>male</td>\n",
       "      <td>kala paharia</td>\n",
       "      <td>araihazar</td>\n",
       "      <td>6/9/2024</td>\n",
       "      <td>4:30:00 AM</td>\n",
       "      <td>half murder</td>\n",
       "    </tr>\n",
       "    <tr>\n",
       "      <th>8</th>\n",
       "      <td>9</td>\n",
       "      <td>20</td>\n",
       "      <td>male</td>\n",
       "      <td>kala paharia</td>\n",
       "      <td>araihazar</td>\n",
       "      <td>6/9/2024</td>\n",
       "      <td>4:30:00 AM</td>\n",
       "      <td>half murder</td>\n",
       "    </tr>\n",
       "    <tr>\n",
       "      <th>9</th>\n",
       "      <td>10</td>\n",
       "      <td>35</td>\n",
       "      <td>female</td>\n",
       "      <td>kala paharia</td>\n",
       "      <td>araihazar</td>\n",
       "      <td>6/9/2024</td>\n",
       "      <td>4:30:00 AM</td>\n",
       "      <td>half murder</td>\n",
       "    </tr>\n",
       "  </tbody>\n",
       "</table>\n",
       "</div>"
      ],
      "text/plain": [
       "   SL  Age  gender         PS/SD Crime_Location Crime_date  Crime_time  \\\n",
       "0   1   30    male         vulta        rupgonj  4/24/2022  1:55:00 PM   \n",
       "1   2   32    male         vulta        rupgonj  4/24/2022  1:55:00 PM   \n",
       "2   3   38    male         vulta        rupgonj  4/24/2022  1:55:00 PM   \n",
       "3   4   32    male         vulta        rupgonj  4/24/2022  1:55:00 PM   \n",
       "4   5   65    male  kala paharia      araihazar   6/9/2024  4:30:00 AM   \n",
       "5   6   30    male  kala paharia      araihazar   6/9/2024  4:30:00 AM   \n",
       "6   7   35    male  kala paharia      araihazar   6/9/2024  4:30:00 AM   \n",
       "7   8   45    male  kala paharia      araihazar   6/9/2024  4:30:00 AM   \n",
       "8   9   20    male  kala paharia      araihazar   6/9/2024  4:30:00 AM   \n",
       "9  10   35  female  kala paharia      araihazar   6/9/2024  4:30:00 AM   \n",
       "\n",
       "    Allegation  \n",
       "0        drugs  \n",
       "1        drugs  \n",
       "2        drugs  \n",
       "3        drugs  \n",
       "4  half murder  \n",
       "5  half murder  \n",
       "6  half murder  \n",
       "7  half murder  \n",
       "8  half murder  \n",
       "9  half murder  "
      ]
     },
     "execution_count": 4,
     "metadata": {},
     "output_type": "execute_result"
    }
   ],
   "source": [
    "df.head(10)\n",
    "# df.dtypes"
   ]
  },
  {
   "cell_type": "markdown",
   "metadata": {},
   "source": [
    "# **Raw Data Visualization**"
   ]
  },
  {
   "cell_type": "code",
   "execution_count": 5,
   "metadata": {},
   "outputs": [],
   "source": [
    "from plot_results import *"
   ]
  },
  {
   "cell_type": "code",
   "execution_count": 6,
   "metadata": {},
   "outputs": [
    {
     "name": "stderr",
     "output_type": "stream",
     "text": [
      "C:\\Users\\User\\AppData\\Local\\Packages\\PythonSoftwareFoundation.Python.3.11_qbz5n2kfra8p0\\LocalCache\\local-packages\\Python311\\site-packages\\seaborn\\_oldcore.py:1498: FutureWarning: is_categorical_dtype is deprecated and will be removed in a future version. Use isinstance(dtype, CategoricalDtype) instead\n",
      "  if pd.api.types.is_categorical_dtype(vector):\n",
      "C:\\Users\\User\\AppData\\Local\\Packages\\PythonSoftwareFoundation.Python.3.11_qbz5n2kfra8p0\\LocalCache\\local-packages\\Python311\\site-packages\\seaborn\\_oldcore.py:1119: FutureWarning: use_inf_as_na option is deprecated and will be removed in a future version. Convert inf values to NaN before operating instead.\n",
      "  with pd.option_context('mode.use_inf_as_na', True):\n"
     ]
    },
    {
     "data": {
      "image/png": "[encoded data removed]",
      "text/plain": [
       "<Figure size 800x600 with 1 Axes>"
      ]
     },
     "metadata": {},
     "output_type": "display_data"
    },
    {
     "name": "stderr",
     "output_type": "stream",
     "text": [
      "C:\\Users\\User\\AppData\\Local\\Packages\\PythonSoftwareFoundation.Python.3.11_qbz5n2kfra8p0\\LocalCache\\local-packages\\Python311\\site-packages\\seaborn\\_oldcore.py:1498: FutureWarning: is_categorical_dtype is deprecated and will be removed in a future version. Use isinstance(dtype, CategoricalDtype) instead\n",
      "  if pd.api.types.is_categorical_dtype(vector):\n",
      "C:\\Users\\User\\AppData\\Local\\Packages\\PythonSoftwareFoundation.Python.3.11_qbz5n2kfra8p0\\LocalCache\\local-packages\\Python311\\site-packages\\seaborn\\_oldcore.py:1498: FutureWarning: is_categorical_dtype is deprecated and will be removed in a future version. Use isinstance(dtype, CategoricalDtype) instead\n",
      "  if pd.api.types.is_categorical_dtype(vector):\n",
      "C:\\Users\\User\\AppData\\Local\\Packages\\PythonSoftwareFoundation.Python.3.11_qbz5n2kfra8p0\\LocalCache\\local-packages\\Python311\\site-packages\\seaborn\\_oldcore.py:1498: FutureWarning: is_categorical_dtype is deprecated and will be removed in a future version. Use isinstance(dtype, CategoricalDtype) instead\n",
      "  if pd.api.types.is_categorical_dtype(vector):\n"
     ]
    },
    {
     "data": {
      "image/png": "[encoded data removed]",
      "text/plain": [
       "<Figure size 640x480 with 1 Axes>"
      ]
     },
     "metadata": {},
     "output_type": "display_data"
    }
   ],
   "source": [
    "plot_age(df)\n",
    "plot_gender(df)"
   ]
  },
  {
   "cell_type": "markdown",
   "metadata": {},
   "source": [
    "# **Data Pre-Processing for k-means**"
   ]
  },
  {
   "cell_type": "code",
   "execution_count": 6,
   "metadata": {},
   "outputs": [
    {
     "name": "stdout",
     "output_type": "stream",
     "text": [
      "Age                         int64\n",
      "gender                     object\n",
      "PS/SD                      object\n",
      "Crime_Location             object\n",
      "Crime_date         datetime64[ns]\n",
      "Crime_time         datetime64[ns]\n",
      "Allegation                 object\n",
      "crime_hour                  int32\n",
      "Crime_year                  int32\n",
      "Crime_month                 int32\n",
      "Crime_day                   int32\n",
      "crime_dayofweek             int32\n",
      "crime_hour_sin            float64\n",
      "crime_hour_cos            float64\n",
      "dtype: object\n"
     ]
    },
    {
     "name": "stderr",
     "output_type": "stream",
     "text": [
      "f:\\University\\Uni Stuff (semester 11)\\Thesis\\code\\src\\data\\process_data.py:25: UserWarning: Could not infer format, so each element will be parsed individually, falling back to `dateutil`. To ensure parsing is consistent and as-expected, please specify a format.\n",
      "  df['Crime_time'] = pd.to_datetime(df['Crime_time'])\n"
     ]
    }
   ],
   "source": [
    "from process_data import preprocess_data_clustering\n",
    "processed_df_clustering = preprocess_data_clustering(df)"
   ]
  },
  {
   "cell_type": "code",
   "execution_count": 8,
   "metadata": {},
   "outputs": [
    {
     "data": {
      "text/plain": [
       "'File saved successfullly'"
      ]
     },
     "execution_count": 8,
     "metadata": {},
     "output_type": "execute_result"
    }
   ],
   "source": [
    "save_data(processed_df_clustering, \"processed_data_for_clustering.csv\")"
   ]
  },
  {
   "cell_type": "markdown",
   "metadata": {},
   "source": [
    "# **LSTM-MLP hybrid data exploration**"
   ]
  },
  {
   "cell_type": "markdown",
   "metadata": {},
   "source": [
    "**Loading in Raw data**"
   ]
  },
  {
   "cell_type": "code",
   "execution_count": null,
   "metadata": {},
   "outputs": [
    {
     "name": "stdout",
     "output_type": "stream",
     "text": [
      "Data loaded successfully from F:\\University\\Uni Stuff (semester 11)\\Thesis\\code\\data\\raw\\thesis_data.csv\n"
     ]
    },
    {
     "data": {
      "text/plain": [
       "SL                 int64\n",
       "Age                int64\n",
       "gender            object\n",
       "PS/SD             object\n",
       "Crime_Location    object\n",
       "Crime_date        object\n",
       "Crime_time        object\n",
       "Allegation        object\n",
       "dtype: object"
      ]
     },
     "execution_count": 3,
     "metadata": {},
     "output_type": "execute_result"
    }
   ],
   "source": [
    "raw_df = load_data(r\"F:\\University\\Uni Stuff (semester 11)\\Thesis\\code\\data\\raw\\thesis_data.csv\")\n",
    "raw_df.dtypes"
   ]
  },
  {
   "cell_type": "markdown",
   "metadata": {},
   "source": [
    "**Preprocessing**"
   ]
  },
  {
   "cell_type": "code",
   "execution_count": 7,
   "metadata": {},
   "outputs": [],
   "source": [
    "from process_data import hybrid_model_preprocessing"
   ]
  },
  {
   "cell_type": "code",
   "execution_count": 5,
   "metadata": {},
   "outputs": [
    {
     "name": "stdout",
     "output_type": "stream",
     "text": [
      "Label encoders saved to F:\\University\\Uni Stuff (semester 11)\\Thesis\\code\\data\\processed\\label_encoders.pkl\n"
     ]
    }
   ],
   "source": [
    "preprocessed_data, encoders = hybrid_model_preprocessing(raw_df)"
   ]
  },
  {
   "cell_type": "code",
   "execution_count": 6,
   "metadata": {},
   "outputs": [
    {
     "data": {
      "text/plain": [
       "'File saved successfullly'"
      ]
     },
     "execution_count": 6,
     "metadata": {},
     "output_type": "execute_result"
    }
   ],
   "source": [
    "save_data(preprocessed_data, 'lstm_mlp_preprocessed_data.csv')"
   ]
  },
  {
   "cell_type": "code",
   "execution_count": 7,
   "metadata": {},
   "outputs": [
    {
     "data": {
      "application/vnd.microsoft.datawrangler.viewer.v0+json": {
       "columns": [
        {
         "name": "index",
         "rawType": "int64",
         "type": "integer"
        },
        {
         "name": "Age",
         "rawType": "int64",
         "type": "integer"
        },
        {
         "name": "gender",
         "rawType": "int32",
         "type": "integer"
        },
        {
         "name": "PS/SD",
         "rawType": "int32",
         "type": "integer"
        },
        {
         "name": "Crime_Location",
         "rawType": "int32",
         "type": "integer"
        },
        {
         "name": "Crime_date",
         "rawType": "object",
         "type": "string"
        },
        {
         "name": "Crime_time",
         "rawType": "object",
         "type": "string"
        },
        {
         "name": "Allegation",
         "rawType": "int32",
         "type": "integer"
        },
        {
         "name": "Crime_datetime",
         "rawType": "datetime64[ns]",
         "type": "datetime"
        }
       ],
       "conversionMethod": "pd.DataFrame",
       "ref": "4b424a6a-710e-4314-9d11-296cb6374ce3",
       "rows": [
        [
         "880",
         "35",
         "1",
         "5",
         "5",
         "17/08/2019",
         "6:30:00 PM",
         "3",
         "2019-08-17 18:30:00"
        ],
        [
         "877",
         "30",
         "1",
         "5",
         "5",
         "17/08/2019",
         "6:30:00 PM",
         "3",
         "2019-08-17 18:30:00"
        ],
        [
         "878",
         "39",
         "1",
         "5",
         "5",
         "17/08/2019",
         "6:30:00 PM",
         "3",
         "2019-08-17 18:30:00"
        ],
        [
         "879",
         "35",
         "1",
         "5",
         "5",
         "17/08/2019",
         "6:30:00 PM",
         "3",
         "2019-08-17 18:30:00"
        ],
        [
         "935",
         "35",
         "1",
         "5",
         "5",
         "17/08/2019",
         "6:30:00 PM",
         "9",
         "2019-08-17 18:30:00"
        ]
       ],
       "shape": {
        "columns": 8,
        "rows": 5
       }
      },
      "text/html": [
       "<div>\n",
       "<style scoped>\n",
       "    .dataframe tbody tr th:only-of-type {\n",
       "        vertical-align: middle;\n",
       "    }\n",
       "\n",
       "    .dataframe tbody tr th {\n",
       "        vertical-align: top;\n",
       "    }\n",
       "\n",
       "    .dataframe thead th {\n",
       "        text-align: right;\n",
       "    }\n",
       "</style>\n",
       "<table border=\"1\" class=\"dataframe\">\n",
       "  <thead>\n",
       "    <tr style=\"text-align: right;\">\n",
       "      <th></th>\n",
       "      <th>Age</th>\n",
       "      <th>gender</th>\n",
       "      <th>PS/SD</th>\n",
       "      <th>Crime_Location</th>\n",
       "      <th>Crime_date</th>\n",
       "      <th>Crime_time</th>\n",
       "      <th>Allegation</th>\n",
       "      <th>Crime_datetime</th>\n",
       "    </tr>\n",
       "  </thead>\n",
       "  <tbody>\n",
       "    <tr>\n",
       "      <th>880</th>\n",
       "      <td>35</td>\n",
       "      <td>1</td>\n",
       "      <td>5</td>\n",
       "      <td>5</td>\n",
       "      <td>17/08/2019</td>\n",
       "      <td>6:30:00 PM</td>\n",
       "      <td>3</td>\n",
       "      <td>2019-08-17 18:30:00</td>\n",
       "    </tr>\n",
       "    <tr>\n",
       "      <th>877</th>\n",
       "      <td>30</td>\n",
       "      <td>1</td>\n",
       "      <td>5</td>\n",
       "      <td>5</td>\n",
       "      <td>17/08/2019</td>\n",
       "      <td>6:30:00 PM</td>\n",
       "      <td>3</td>\n",
       "      <td>2019-08-17 18:30:00</td>\n",
       "    </tr>\n",
       "    <tr>\n",
       "      <th>878</th>\n",
       "      <td>39</td>\n",
       "      <td>1</td>\n",
       "      <td>5</td>\n",
       "      <td>5</td>\n",
       "      <td>17/08/2019</td>\n",
       "      <td>6:30:00 PM</td>\n",
       "      <td>3</td>\n",
       "      <td>2019-08-17 18:30:00</td>\n",
       "    </tr>\n",
       "    <tr>\n",
       "      <th>879</th>\n",
       "      <td>35</td>\n",
       "      <td>1</td>\n",
       "      <td>5</td>\n",
       "      <td>5</td>\n",
       "      <td>17/08/2019</td>\n",
       "      <td>6:30:00 PM</td>\n",
       "      <td>3</td>\n",
       "      <td>2019-08-17 18:30:00</td>\n",
       "    </tr>\n",
       "    <tr>\n",
       "      <th>935</th>\n",
       "      <td>35</td>\n",
       "      <td>1</td>\n",
       "      <td>5</td>\n",
       "      <td>5</td>\n",
       "      <td>17/08/2019</td>\n",
       "      <td>6:30:00 PM</td>\n",
       "      <td>9</td>\n",
       "      <td>2019-08-17 18:30:00</td>\n",
       "    </tr>\n",
       "  </tbody>\n",
       "</table>\n",
       "</div>"
      ],
      "text/plain": [
       "     Age  gender  PS/SD  Crime_Location  Crime_date  Crime_time  Allegation  \\\n",
       "880   35       1      5               5  17/08/2019  6:30:00 PM           3   \n",
       "877   30       1      5               5  17/08/2019  6:30:00 PM           3   \n",
       "878   39       1      5               5  17/08/2019  6:30:00 PM           3   \n",
       "879   35       1      5               5  17/08/2019  6:30:00 PM           3   \n",
       "935   35       1      5               5  17/08/2019  6:30:00 PM           9   \n",
       "\n",
       "         Crime_datetime  \n",
       "880 2019-08-17 18:30:00  \n",
       "877 2019-08-17 18:30:00  \n",
       "878 2019-08-17 18:30:00  \n",
       "879 2019-08-17 18:30:00  \n",
       "935 2019-08-17 18:30:00  "
      ]
     },
     "execution_count": 7,
     "metadata": {},
     "output_type": "execute_result"
    }
   ],
   "source": [
    "preprocessed_data.head()"
   ]
  },
  {
   "cell_type": "code",
   "execution_count": 7,
   "metadata": {},
   "outputs": [
    {
     "name": "stdout",
     "output_type": "stream",
     "text": [
      "{'gender': LabelEncoder(), 'PS/SD': LabelEncoder(), 'Crime_Location': LabelEncoder(), 'Allegation': LabelEncoder()}\n"
     ]
    }
   ],
   "source": [
    "print(encoders)"
   ]
  }
 ],
 "metadata": {
  "kernelspec": {
   "display_name": "Python 3",
   "language": "python",
   "name": "python3"
  },
  "language_info": {
   "codemirror_mode": {
    "name": "ipython",
    "version": 3
   },
   "file_extension": ".py",
   "mimetype": "text/x-python",
   "name": "python",
   "nbconvert_exporter": "python",
   "pygments_lexer": "ipython3",
   "version": "3.11.9"
  }
 },
 "nbformat": 4,
 "nbformat_minor": 2
}
