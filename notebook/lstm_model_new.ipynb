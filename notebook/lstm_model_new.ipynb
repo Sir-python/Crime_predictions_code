{
 "cells": [
  {
   "cell_type": "markdown",
   "id": "d0c059e0",
   "metadata": {},
   "source": [
    "# **Libraries**"
   ]
  },
  {
   "cell_type": "code",
   "execution_count": 1,
   "id": "d1768a54",
   "metadata": {},
   "outputs": [],
   "source": [
    "import pandas as pd\n",
    "import numpy as np\n",
    "import matplotlib.pyplot as plt\n",
    "import seaborn as sns\n",
    "from sklearn.model_selection import train_test_split, cross_val_score, TimeSeriesSplit\n",
    "from sklearn.linear_model import LinearRegression\n",
    "from sklearn.ensemble import RandomForestRegressor\n",
    "from sklearn.metrics import mean_absolute_error, root_mean_squared_error, r2_score, mean_squared_error\n",
    "from sklearn.preprocessing import MinMaxScaler, StandardScaler\n",
    "from sklearn.preprocessing import LabelEncoder, OneHotEncoder\n",
    "from tensorflow import keras\n",
    "from tensorflow.keras.models import Model, Sequential  # type: ignore\n",
    "from tensorflow.keras.layers import Input, LSTM, Dense, Dropout # type: ignore\n",
    "from tensorflow.keras.preprocessing.sequence import pad_sequences   # type: ignore\n",
    "from tensorflow.keras.regularizers import l2    # type: ignore\n",
    "from tensorflow.keras.optimizers import Adam    # type: ignore\n",
    "import shap\n",
    "import lime\n",
    "from sklearn.impute import SimpleImputer"
   ]
  },
  {
   "cell_type": "markdown",
   "id": "e38fa4fe",
   "metadata": {},
   "source": [
    "# **File path and dataframe**"
   ]
  },
  {
   "cell_type": "code",
   "execution_count": 2,
   "id": "44dee963",
   "metadata": {},
   "outputs": [],
   "source": [
    "df = pd.read_excel(r\"F:\\University\\Uni Stuff (semester 11)\\Thesis\\code\\data\\raw\\thesis_excel (4).xlsx\", parse_dates=['Crime date'])"
   ]
  },
  {
   "cell_type": "code",
   "execution_count": 4,
   "id": "6ae8a028",
   "metadata": {},
   "outputs": [],
   "source": [
    "df_agg = df.set_index('Crime date').groupby(['Crime Location', pd.Grouper(freq='D')])['Allegation'].count().reset_index()\n",
    "df_agg = df_agg.rename(columns={'Allegation': 'Crime count'})"
   ]
  },
  {
   "cell_type": "code",
   "execution_count": 7,
   "id": "2db1bbcf",
   "metadata": {},
   "outputs": [
    {
     "name": "stdout",
     "output_type": "stream",
     "text": [
      "Crime Location  daily time building  kala paharia  kasipur  matuail  nahati  \\\n",
      "Crime date                                                                    \n",
      "2024-01-02                     13.0          33.0      0.0      0.0     0.0   \n",
      "2024-01-03                      0.0           0.0      0.0      0.0     0.0   \n",
      "2024-01-04                      0.0           0.0      0.0      0.0     0.0   \n",
      "2024-01-05                      0.0           0.0      0.0      0.0     0.0   \n",
      "2024-01-06                      0.0           0.0      0.0      0.0     0.0   \n",
      "\n",
      "Crime Location  narayangonj sadar  sadipur  sector#7  sonargaon  vatipara  \\\n",
      "Crime date                                                                  \n",
      "2024-01-02                    0.0      0.0       3.0        0.0       0.0   \n",
      "2024-01-03                    0.0      0.0       0.0        0.0       0.0   \n",
      "2024-01-04                    0.0      0.0       0.0        0.0       0.0   \n",
      "2024-01-05                    0.0      0.0       0.0        0.0       0.0   \n",
      "2024-01-06                    0.0      0.0       0.0        0.0       0.0   \n",
      "\n",
      "Crime Location  vulta  \n",
      "Crime date             \n",
      "2024-01-02        4.0  \n",
      "2024-01-03        0.0  \n",
      "2024-01-04        0.0  \n",
      "2024-01-05        0.0  \n",
      "2024-01-06        0.0  \n"
     ]
    }
   ],
   "source": [
    "df_pivot = df_agg.pivot(index='Crime date', columns='Crime Location', values='Crime count').fillna(0)\n",
    "# Ensure the date index is complete (no missing days)\n",
    "df_pivot = df_pivot.resample('D').asfreq(fill_value=0)\n",
    "print(df_pivot.head())"
   ]
  }
 ],
 "metadata": {
  "kernelspec": {
   "display_name": "Python 3",
   "language": "python",
   "name": "python3"
  },
  "language_info": {
   "codemirror_mode": {
    "name": "ipython",
    "version": 3
   },
   "file_extension": ".py",
   "mimetype": "text/x-python",
   "name": "python",
   "nbconvert_exporter": "python",
   "pygments_lexer": "ipython3",
   "version": "3.11.4"
  }
 },
 "nbformat": 4,
 "nbformat_minor": 5
}
